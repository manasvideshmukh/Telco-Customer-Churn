{
 "cells": [
  {
   "cell_type": "code",
   "execution_count": 1,
   "id": "19456f52",
   "metadata": {},
   "outputs": [],
   "source": [
    "import os\n"
   ]
  },
  {
   "cell_type": "code",
   "execution_count": 2,
   "id": "5b2b56ed",
   "metadata": {},
   "outputs": [
    {
     "data": {
      "text/plain": [
       "'c:\\\\telco churn project\\\\src\\\\research'"
      ]
     },
     "execution_count": 2,
     "metadata": {},
     "output_type": "execute_result"
    }
   ],
   "source": [
    "%pwd"
   ]
  },
  {
   "cell_type": "code",
   "execution_count": 3,
   "id": "c3db06c3",
   "metadata": {},
   "outputs": [],
   "source": [
    "import os\n",
    "\n",
    "# Set working directory to project root\n",
    "os.chdir(\"c:/telco churn project\")\n"
   ]
  },
  {
   "cell_type": "code",
   "execution_count": 4,
   "id": "220ece98",
   "metadata": {},
   "outputs": [
    {
     "data": {
      "text/plain": [
       "'c:\\\\telco churn project'"
      ]
     },
     "execution_count": 4,
     "metadata": {},
     "output_type": "execute_result"
    }
   ],
   "source": [
    "%pwd"
   ]
  },
  {
   "cell_type": "code",
   "execution_count": 5,
   "id": "d4695b0d",
   "metadata": {},
   "outputs": [
    {
     "data": {
      "text/plain": [
       "{'artifacts_root': 'artifacts',\n",
       " 'data_ingestion': {'root_dir': 'artifacts/data_ingestion',\n",
       "  'source_file': 'data/WA_Fn-UseC_-Telco-Customer-Churn.csv',\n",
       "  'raw_data': 'artifacts/data_ingestion/raw.csv',\n",
       "  'train_data': 'artifacts/data_ingestion/train.csv',\n",
       "  'test_data': 'artifacts/data_ingestion/test.csv',\n",
       "  'test_size': 0.2,\n",
       "  'random_state': 42},\n",
       " 'data_transformation': {'root_dir': 'artifacts/data_transformation',\n",
       "  'train_data_path': 'artifacts/data_ingestion/train.csv',\n",
       "  'test_data_path': 'artifacts/data_ingestion/test.csv',\n",
       "  'transformed_train_path': 'artifacts/data_transformation/train_transformed.csv',\n",
       "  'transformed_test_path': 'artifacts/data_transformation/test_transformed.csv',\n",
       "  'transformer_object_path': 'artifacts/data_transformation/transformer.pkl'},\n",
       " 'data_validation': {'root_dir': 'artifacts/data_validation',\n",
       "  'status_file': 'artifacts/data_validation/status.txt',\n",
       "  'schema_file': 'config/schema.yaml',\n",
       "  'data_file': 'artifacts/data_ingestion/train.csv'}}"
      ]
     },
     "execution_count": 5,
     "metadata": {},
     "output_type": "execute_result"
    }
   ],
   "source": [
    "import yaml\n",
    "\n",
    "with open(\"config/config.yaml\", \"r\") as f:\n",
    "    config = yaml.safe_load(f)\n",
    "\n",
    "config\n"
   ]
  },
  {
   "cell_type": "code",
   "execution_count": 6,
   "id": "a3547086",
   "metadata": {},
   "outputs": [],
   "source": [
    "import pandas as pd\n",
    "import yaml\n",
    "import os\n"
   ]
  },
  {
   "cell_type": "code",
   "execution_count": 9,
   "id": "fb78529c",
   "metadata": {},
   "outputs": [],
   "source": [
    "with open(\"config/config.yaml\", \"r\") as f:\n",
    "    config = yaml.safe_load(f)\n",
    "\n",
    "validation_config = config[\"data_validation\"]\n",
    "\n",
    "data_path = validation_config[\"data_file\"]\n",
    "schema_path = validation_config[\"schema_file\"]\n",
    "status_path = validation_config[\"status_file\"]\n"
   ]
  },
  {
   "cell_type": "code",
   "execution_count": 11,
   "id": "e34d6d5e",
   "metadata": {},
   "outputs": [],
   "source": [
    "# Load dataset\n",
    "df = pd.read_csv(data_path)\n",
    "\n",
    "# Load schema\n",
    "with open(schema_path, \"r\") as f:\n",
    "    schema = yaml.safe_load(f)\n",
    "\n",
    "expected_columns = schema[\"columns\"]\n"
   ]
  },
  {
   "cell_type": "code",
   "execution_count": 12,
   "id": "5876eec2",
   "metadata": {},
   "outputs": [],
   "source": [
    "actual_columns = df.columns.tolist()\n",
    "expected_column_names = list(expected_columns.keys())\n",
    "\n",
    "missing_columns = [col for col in expected_column_names if col not in actual_columns]\n",
    "extra_columns = [col for col in actual_columns if col not in expected_column_names]\n"
   ]
  },
  {
   "cell_type": "code",
   "execution_count": 13,
   "id": "fec79842",
   "metadata": {},
   "outputs": [],
   "source": [
    "mismatched_types = []\n",
    "for col, expected_dtype in expected_columns.items():\n",
    "    if col in df.columns:\n",
    "        actual_dtype = str(df[col].dtype)\n",
    "        if actual_dtype != expected_dtype:\n",
    "            mismatched_types.append((col, expected_dtype, actual_dtype))\n"
   ]
  },
  {
   "cell_type": "code",
   "execution_count": 14,
   "id": "e1584e85",
   "metadata": {},
   "outputs": [],
   "source": [
    "target_col = schema.get(\"target_column\")\n",
    "target_dtype = schema.get(\"target_dtype\")\n",
    "target_mismatch = False\n",
    "\n",
    "if target_col not in df.columns:\n",
    "    target_mismatch = True\n",
    "elif str(df[target_col].dtype) != target_dtype:\n",
    "    target_mismatch = True\n"
   ]
  },
  {
   "cell_type": "code",
   "execution_count": 15,
   "id": "a0be142b",
   "metadata": {},
   "outputs": [],
   "source": [
    "os.makedirs(os.path.dirname(status_path), exist_ok=True)\n",
    "\n",
    "with open(status_path, \"w\") as f:\n",
    "    if missing_columns or extra_columns or mismatched_types or target_mismatch:\n",
    "        f.write(\"Validation Failed\\n\")\n",
    "        if missing_columns:\n",
    "            f.write(f\"Missing columns: {missing_columns}\\n\")\n",
    "        if extra_columns:\n",
    "            f.write(f\"Extra columns: {extra_columns}\\n\")\n",
    "        if mismatched_types:\n",
    "            f.write(\"Mismatched data types:\\n\")\n",
    "            for col, expected, actual in mismatched_types:\n",
    "                f.write(f\"  - {col}: expected {expected}, got {actual}\\n\")\n",
    "        if target_mismatch:\n",
    "            f.write(f\"Target column '{target_col}' is missing or of wrong dtype\\n\")\n",
    "    else:\n",
    "        f.write(\"Validation Successful\\n\")\n"
   ]
  },
  {
   "cell_type": "code",
   "execution_count": null,
   "id": "e1d00e76",
   "metadata": {},
   "outputs": [],
   "source": []
  }
 ],
 "metadata": {
  "kernelspec": {
   "display_name": "venv",
   "language": "python",
   "name": "python3"
  },
  "language_info": {
   "codemirror_mode": {
    "name": "ipython",
    "version": 3
   },
   "file_extension": ".py",
   "mimetype": "text/x-python",
   "name": "python",
   "nbconvert_exporter": "python",
   "pygments_lexer": "ipython3",
   "version": "3.12.4"
  }
 },
 "nbformat": 4,
 "nbformat_minor": 5
}
